{
 "cells": [
  {
   "cell_type": "markdown",
   "id": "1937b741-f599-47d1-a409-bd5d65611e2f",
   "metadata": {},
   "source": [
    "# NUMERICAL PYTHON (NUMPY) "
   ]
  },
  {
   "cell_type": "markdown",
   "id": "86f59022-ad84-4a42-9a8e-1d4cdfd6952e",
   "metadata": {},
   "source": [
    "#### JOSE MARTIN SJ. NINOBLA                                                                   \n",
    "#### 2 ECE - D | September 4, 2024"
   ]
  },
  {
   "cell_type": "markdown",
   "id": "6d1a5c07-1e52-4013-9155-05d8e89c0a67",
   "metadata": {},
   "source": [
    "##### 1. In this problem, create a random 5 x 5 ndarray and store it to variable X. Normalize X. Save your normalized\n",
    "##### ndarray as X_normalized.npy"
   ]
  },
  {
   "cell_type": "code",
   "execution_count": 15,
   "id": "e961da1a-e46f-4eef-9c79-9f186ed1df4c",
   "metadata": {},
   "outputs": [
    {
     "name": "stdout",
     "output_type": "stream",
     "text": [
      "Original x:\n",
      " [[0.33297452 0.47357117 0.30280754 0.9276977  0.05705341]\n",
      " [0.60619807 0.32712149 0.04818631 0.56618155 0.15669228]\n",
      " [0.77478085 0.65118988 0.48385215 0.79322054 0.69490032]\n",
      " [0.36912327 0.87159501 0.45125006 0.68887017 0.51008179]\n",
      " [0.1660147  0.44678139 0.00730571 0.89267346 0.30003209]]\n",
      "\n",
      "Normalized x:\n",
      " [[-0.5380004  -0.0091592  -0.65147068  1.69899541 -1.57585194]\n",
      " [ 0.48970451 -0.56001603 -1.60920469  0.33918611 -1.20106959]\n",
      " [ 1.12381295  0.65893703  0.02951174  1.19317213  0.82334976]\n",
      " [-0.40203026  1.48797037 -0.09311799  0.80066791  0.12817208]\n",
      " [-1.16600421 -0.10992645 -1.76297328  1.56725502 -0.66191029]]\n"
     ]
    }
   ],
   "source": [
    "import numpy as np\n",
    "\n",
    "#This Creates a random 5x5 ndarray\n",
    "x = np.random.rand(5, 5)\n",
    "\n",
    "# This normalizes the ndarray (subtract the mean and divide by the standard deviation)\n",
    "x_normalized = (x - np.mean(x)) / np.std(x)\n",
    "\n",
    "# Step 3: Save the normalized ndarray as X_normalized.npy\n",
    "np.save('x_normalized.npy', x_normalized)\n",
    "\n",
    "# You can also print the arrays if you want to see the results\n",
    "print(\"Original x:\\n\", x)\n",
    "print(\"\\nNormalized x:\\n\", x_normalized)\n"
   ]
  },
  {
   "cell_type": "markdown",
   "id": "26e0c1f3-962d-49df-a6b7-e1f5a4e47cac",
   "metadata": {},
   "source": [
    "#### 2. Create the following 10 x 10 ndarray. Which are the squares of the first 100 positive integers.\n",
    "#### From this ndarray, determine all the elements that are divisible by 3. Save the result as div_by_3.npy"
   ]
  },
  {
   "cell_type": "code",
   "execution_count": 17,
   "id": "ba8fa07d-c38d-4317-b1f0-c201facb980d",
   "metadata": {},
   "outputs": [
    {
     "name": "stdout",
     "output_type": "stream",
     "text": [
      "10x10 Array of Squares:\n",
      " [[    1     4     9    16    25    36    49    64    81   100]\n",
      " [  121   144   169   196   225   256   289   324   361   400]\n",
      " [  441   484   529   576   625   676   729   784   841   900]\n",
      " [  961  1024  1089  1156  1225  1296  1369  1444  1521  1600]\n",
      " [ 1681  1764  1849  1936  2025  2116  2209  2304  2401  2500]\n",
      " [ 2601  2704  2809  2916  3025  3136  3249  3364  3481  3600]\n",
      " [ 3721  3844  3969  4096  4225  4356  4489  4624  4761  4900]\n",
      " [ 5041  5184  5329  5476  5625  5776  5929  6084  6241  6400]\n",
      " [ 6561  6724  6889  7056  7225  7396  7569  7744  7921  8100]\n",
      " [ 8281  8464  8649  8836  9025  9216  9409  9604  9801 10000]]\n",
      "\n",
      "Elements Divisible by 3:\n",
      " [   9   36   81  144  225  324  441  576  729  900 1089 1296 1521 1764\n",
      " 2025 2304 2601 2916 3249 3600 3969 4356 4761 5184 5625 6084 6561 7056\n",
      " 7569 8100 8649 9216 9801]\n"
     ]
    }
   ],
   "source": [
    "import numpy as np\n",
    "\n",
    "# Step 1: Create an array of the first 100 positive integers\n",
    "first_100_integers = np.arange(1, 101)\n",
    "\n",
    "# Step 2: Square each of these integers\n",
    "squares = first_100_integers ** 2\n",
    "\n",
    "# Step 3: Reshape the array into a 10x10 ndarray\n",
    "X = squares.reshape((10, 10))\n",
    "\n",
    "# Step 4: Find the elements divisible by 3\n",
    "div_by_3 = X[X % 3 == 0]\n",
    "\n",
    "# Step 5: Save the result as div_by_3.npy\n",
    "np.save('div_by_3.npy', div_by_3)\n",
    "\n",
    "# Print the results if you want to see them\n",
    "print(\"10x10 Array of Squares:\\n\", X)\n",
    "print(\"\\nElements Divisible by 3:\\n\", div_by_3)\n"
   ]
  },
  {
   "cell_type": "code",
   "execution_count": null,
   "id": "6e6453c6-0eaf-472d-8aae-2537c747bbac",
   "metadata": {},
   "outputs": [],
   "source": []
  }
 ],
 "metadata": {
  "kernelspec": {
   "display_name": "Python 3 (ipykernel)",
   "language": "python",
   "name": "python3"
  },
  "language_info": {
   "codemirror_mode": {
    "name": "ipython",
    "version": 3
   },
   "file_extension": ".py",
   "mimetype": "text/x-python",
   "name": "python",
   "nbconvert_exporter": "python",
   "pygments_lexer": "ipython3",
   "version": "3.12.4"
  }
 },
 "nbformat": 4,
 "nbformat_minor": 5
}
